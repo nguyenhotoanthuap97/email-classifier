{
 "cells": [
  {
   "cell_type": "code",
   "execution_count": 2,
   "id": "9941364c",
   "metadata": {
    "_cell_guid": "b1076dfc-b9ad-4769-8c92-a6c4dae69d19",
    "_uuid": "8f2839f25d086af736a60e9eeb907d3b93b6e0e5",
    "execution": {
     "iopub.execute_input": "2021-11-09T04:02:14.682658Z",
     "iopub.status.busy": "2021-11-09T04:02:14.681346Z",
     "iopub.status.idle": "2021-11-09T04:02:14.699648Z",
     "shell.execute_reply": "2021-11-09T04:02:14.700305Z",
     "shell.execute_reply.started": "2021-11-09T03:55:24.899452Z"
    },
    "papermill": {
     "duration": 0.042625,
     "end_time": "2021-11-09T04:02:14.700755",
     "exception": false,
     "start_time": "2021-11-09T04:02:14.658130",
     "status": "completed"
    },
    "tags": []
   },
   "outputs": [],
   "source": [
    "\n",
    "import os\n",
    "for dirname, _, filenames in os.walk('/kaggle/input'):\n",
    "    for filename in filenames:\n",
    "        print(os.path.join(dirname, filename))\n",
    "\n",
    "# You can write up to 20GB to the current directory (/kaggle/working/) that gets preserved as output when you create a version using \"Save & Run All\" \n",
    "# You can also write temporary files to /kaggle/temp/, but they won't be saved outside of the current session"
   ]
  },
  {
   "cell_type": "code",
   "execution_count": 3,
   "id": "1494ba3f",
   "metadata": {
    "execution": {
     "iopub.execute_input": "2021-11-09T04:02:14.745186Z",
     "iopub.status.busy": "2021-11-09T04:02:14.744430Z",
     "iopub.status.idle": "2021-11-09T04:02:15.743702Z",
     "shell.execute_reply": "2021-11-09T04:02:15.742749Z",
     "shell.execute_reply.started": "2021-11-09T03:55:24.920448Z"
    },
    "papermill": {
     "duration": 1.024065,
     "end_time": "2021-11-09T04:02:15.743886",
     "exception": false,
     "start_time": "2021-11-09T04:02:14.719821",
     "status": "completed"
    },
    "tags": []
   },
   "outputs": [],
   "source": [
    "import pandas as pd\n",
    "import numpy as np\n",
    "from sklearn.naive_bayes import GaussianNB"
   ]
  },
  {
   "cell_type": "code",
   "execution_count": 4,
   "id": "3f55d7f3",
   "metadata": {
    "execution": {
     "iopub.execute_input": "2021-11-09T04:02:15.790585Z",
     "iopub.status.busy": "2021-11-09T04:02:15.789757Z",
     "iopub.status.idle": "2021-11-09T04:02:15.791629Z",
     "shell.execute_reply": "2021-11-09T04:02:15.792130Z",
     "shell.execute_reply.started": "2021-11-09T03:55:25.241497Z"
    },
    "papermill": {
     "duration": 0.029331,
     "end_time": "2021-11-09T04:02:15.792363",
     "exception": false,
     "start_time": "2021-11-09T04:02:15.763032",
     "status": "completed"
    },
    "tags": []
   },
   "outputs": [],
   "source": [
    "clf = GaussianNB()"
   ]
  },
  {
   "cell_type": "code",
   "execution_count": 5,
   "id": "3ecd3683",
   "metadata": {
    "execution": {
     "iopub.execute_input": "2021-11-09T04:02:15.834005Z",
     "iopub.status.busy": "2021-11-09T04:02:15.833249Z",
     "iopub.status.idle": "2021-11-09T04:02:18.198246Z",
     "shell.execute_reply": "2021-11-09T04:02:18.197502Z",
     "shell.execute_reply.started": "2021-11-09T03:55:25.248598Z"
    },
    "papermill": {
     "duration": 2.387374,
     "end_time": "2021-11-09T04:02:18.198406",
     "exception": false,
     "start_time": "2021-11-09T04:02:15.811032",
     "status": "completed"
    },
    "tags": []
   },
   "outputs": [],
   "source": [
    "data = pd.read_csv('../datasets/emails.csv')"
   ]
  },
  {
   "cell_type": "code",
   "execution_count": 6,
   "id": "3464c198",
   "metadata": {
    "execution": {
     "iopub.execute_input": "2021-11-09T04:02:18.244215Z",
     "iopub.status.busy": "2021-11-09T04:02:18.243474Z",
     "iopub.status.idle": "2021-11-09T04:02:18.272429Z",
     "shell.execute_reply": "2021-11-09T04:02:18.271795Z",
     "shell.execute_reply.started": "2021-11-09T03:55:27.121413Z"
    },
    "papermill": {
     "duration": 0.056262,
     "end_time": "2021-11-09T04:02:18.272632",
     "exception": false,
     "start_time": "2021-11-09T04:02:18.216370",
     "status": "completed"
    },
    "tags": []
   },
   "outputs": [
    {
     "data": {
      "text/html": [
       "<div>\n",
       "<style scoped>\n",
       "    .dataframe tbody tr th:only-of-type {\n",
       "        vertical-align: middle;\n",
       "    }\n",
       "\n",
       "    .dataframe tbody tr th {\n",
       "        vertical-align: top;\n",
       "    }\n",
       "\n",
       "    .dataframe thead th {\n",
       "        text-align: right;\n",
       "    }\n",
       "</style>\n",
       "<table border=\"1\" class=\"dataframe\">\n",
       "  <thead>\n",
       "    <tr style=\"text-align: right;\">\n",
       "      <th></th>\n",
       "      <th>Email No.</th>\n",
       "      <th>the</th>\n",
       "      <th>to</th>\n",
       "      <th>ect</th>\n",
       "      <th>and</th>\n",
       "      <th>for</th>\n",
       "      <th>of</th>\n",
       "      <th>a</th>\n",
       "      <th>you</th>\n",
       "      <th>hou</th>\n",
       "      <th>...</th>\n",
       "      <th>connevey</th>\n",
       "      <th>jay</th>\n",
       "      <th>valued</th>\n",
       "      <th>lay</th>\n",
       "      <th>infrastructure</th>\n",
       "      <th>military</th>\n",
       "      <th>allowing</th>\n",
       "      <th>ff</th>\n",
       "      <th>dry</th>\n",
       "      <th>Prediction</th>\n",
       "    </tr>\n",
       "  </thead>\n",
       "  <tbody>\n",
       "    <tr>\n",
       "      <th>0</th>\n",
       "      <td>Email 1</td>\n",
       "      <td>0</td>\n",
       "      <td>0</td>\n",
       "      <td>1</td>\n",
       "      <td>0</td>\n",
       "      <td>0</td>\n",
       "      <td>0</td>\n",
       "      <td>2</td>\n",
       "      <td>0</td>\n",
       "      <td>0</td>\n",
       "      <td>...</td>\n",
       "      <td>0</td>\n",
       "      <td>0</td>\n",
       "      <td>0</td>\n",
       "      <td>0</td>\n",
       "      <td>0</td>\n",
       "      <td>0</td>\n",
       "      <td>0</td>\n",
       "      <td>0</td>\n",
       "      <td>0</td>\n",
       "      <td>0</td>\n",
       "    </tr>\n",
       "    <tr>\n",
       "      <th>1</th>\n",
       "      <td>Email 2</td>\n",
       "      <td>8</td>\n",
       "      <td>13</td>\n",
       "      <td>24</td>\n",
       "      <td>6</td>\n",
       "      <td>6</td>\n",
       "      <td>2</td>\n",
       "      <td>102</td>\n",
       "      <td>1</td>\n",
       "      <td>27</td>\n",
       "      <td>...</td>\n",
       "      <td>0</td>\n",
       "      <td>0</td>\n",
       "      <td>0</td>\n",
       "      <td>0</td>\n",
       "      <td>0</td>\n",
       "      <td>0</td>\n",
       "      <td>0</td>\n",
       "      <td>1</td>\n",
       "      <td>0</td>\n",
       "      <td>0</td>\n",
       "    </tr>\n",
       "    <tr>\n",
       "      <th>2</th>\n",
       "      <td>Email 3</td>\n",
       "      <td>0</td>\n",
       "      <td>0</td>\n",
       "      <td>1</td>\n",
       "      <td>0</td>\n",
       "      <td>0</td>\n",
       "      <td>0</td>\n",
       "      <td>8</td>\n",
       "      <td>0</td>\n",
       "      <td>0</td>\n",
       "      <td>...</td>\n",
       "      <td>0</td>\n",
       "      <td>0</td>\n",
       "      <td>0</td>\n",
       "      <td>0</td>\n",
       "      <td>0</td>\n",
       "      <td>0</td>\n",
       "      <td>0</td>\n",
       "      <td>0</td>\n",
       "      <td>0</td>\n",
       "      <td>0</td>\n",
       "    </tr>\n",
       "    <tr>\n",
       "      <th>3</th>\n",
       "      <td>Email 4</td>\n",
       "      <td>0</td>\n",
       "      <td>5</td>\n",
       "      <td>22</td>\n",
       "      <td>0</td>\n",
       "      <td>5</td>\n",
       "      <td>1</td>\n",
       "      <td>51</td>\n",
       "      <td>2</td>\n",
       "      <td>10</td>\n",
       "      <td>...</td>\n",
       "      <td>0</td>\n",
       "      <td>0</td>\n",
       "      <td>0</td>\n",
       "      <td>0</td>\n",
       "      <td>0</td>\n",
       "      <td>0</td>\n",
       "      <td>0</td>\n",
       "      <td>0</td>\n",
       "      <td>0</td>\n",
       "      <td>0</td>\n",
       "    </tr>\n",
       "    <tr>\n",
       "      <th>4</th>\n",
       "      <td>Email 5</td>\n",
       "      <td>7</td>\n",
       "      <td>6</td>\n",
       "      <td>17</td>\n",
       "      <td>1</td>\n",
       "      <td>5</td>\n",
       "      <td>2</td>\n",
       "      <td>57</td>\n",
       "      <td>0</td>\n",
       "      <td>9</td>\n",
       "      <td>...</td>\n",
       "      <td>0</td>\n",
       "      <td>0</td>\n",
       "      <td>0</td>\n",
       "      <td>0</td>\n",
       "      <td>0</td>\n",
       "      <td>0</td>\n",
       "      <td>0</td>\n",
       "      <td>1</td>\n",
       "      <td>0</td>\n",
       "      <td>0</td>\n",
       "    </tr>\n",
       "  </tbody>\n",
       "</table>\n",
       "<p>5 rows × 3002 columns</p>\n",
       "</div>"
      ],
      "text/plain": [
       "  Email No.  the  to  ect  and  for  of    a  you  hou  ...  connevey  jay  \\\n",
       "0   Email 1    0   0    1    0    0   0    2    0    0  ...         0    0   \n",
       "1   Email 2    8  13   24    6    6   2  102    1   27  ...         0    0   \n",
       "2   Email 3    0   0    1    0    0   0    8    0    0  ...         0    0   \n",
       "3   Email 4    0   5   22    0    5   1   51    2   10  ...         0    0   \n",
       "4   Email 5    7   6   17    1    5   2   57    0    9  ...         0    0   \n",
       "\n",
       "   valued  lay  infrastructure  military  allowing  ff  dry  Prediction  \n",
       "0       0    0               0         0         0   0    0           0  \n",
       "1       0    0               0         0         0   1    0           0  \n",
       "2       0    0               0         0         0   0    0           0  \n",
       "3       0    0               0         0         0   0    0           0  \n",
       "4       0    0               0         0         0   1    0           0  \n",
       "\n",
       "[5 rows x 3002 columns]"
      ]
     },
     "execution_count": 6,
     "metadata": {},
     "output_type": "execute_result"
    }
   ],
   "source": [
    "data.head()"
   ]
  },
  {
   "cell_type": "code",
   "execution_count": 7,
   "id": "37a92908",
   "metadata": {
    "execution": {
     "iopub.execute_input": "2021-11-09T04:02:18.317230Z",
     "iopub.status.busy": "2021-11-09T04:02:18.316511Z",
     "iopub.status.idle": "2021-11-09T04:02:18.331402Z",
     "shell.execute_reply": "2021-11-09T04:02:18.331941Z",
     "shell.execute_reply.started": "2021-11-09T03:55:27.150642Z"
    },
    "papermill": {
     "duration": 0.040589,
     "end_time": "2021-11-09T04:02:18.332157",
     "exception": false,
     "start_time": "2021-11-09T04:02:18.291568",
     "status": "completed"
    },
    "tags": []
   },
   "outputs": [
    {
     "data": {
      "text/html": [
       "<div>\n",
       "<style scoped>\n",
       "    .dataframe tbody tr th:only-of-type {\n",
       "        vertical-align: middle;\n",
       "    }\n",
       "\n",
       "    .dataframe tbody tr th {\n",
       "        vertical-align: top;\n",
       "    }\n",
       "\n",
       "    .dataframe thead th {\n",
       "        text-align: right;\n",
       "    }\n",
       "</style>\n",
       "<table border=\"1\" class=\"dataframe\">\n",
       "  <thead>\n",
       "    <tr style=\"text-align: right;\">\n",
       "      <th></th>\n",
       "      <th>Email No.</th>\n",
       "      <th>the</th>\n",
       "      <th>to</th>\n",
       "      <th>ect</th>\n",
       "      <th>and</th>\n",
       "      <th>for</th>\n",
       "      <th>of</th>\n",
       "      <th>a</th>\n",
       "      <th>you</th>\n",
       "      <th>hou</th>\n",
       "      <th>...</th>\n",
       "      <th>connevey</th>\n",
       "      <th>jay</th>\n",
       "      <th>valued</th>\n",
       "      <th>lay</th>\n",
       "      <th>infrastructure</th>\n",
       "      <th>military</th>\n",
       "      <th>allowing</th>\n",
       "      <th>ff</th>\n",
       "      <th>dry</th>\n",
       "      <th>Prediction</th>\n",
       "    </tr>\n",
       "  </thead>\n",
       "  <tbody>\n",
       "    <tr>\n",
       "      <th>5167</th>\n",
       "      <td>Email 5168</td>\n",
       "      <td>2</td>\n",
       "      <td>2</td>\n",
       "      <td>2</td>\n",
       "      <td>3</td>\n",
       "      <td>0</td>\n",
       "      <td>0</td>\n",
       "      <td>32</td>\n",
       "      <td>0</td>\n",
       "      <td>0</td>\n",
       "      <td>...</td>\n",
       "      <td>0</td>\n",
       "      <td>0</td>\n",
       "      <td>0</td>\n",
       "      <td>0</td>\n",
       "      <td>0</td>\n",
       "      <td>0</td>\n",
       "      <td>0</td>\n",
       "      <td>0</td>\n",
       "      <td>0</td>\n",
       "      <td>0</td>\n",
       "    </tr>\n",
       "    <tr>\n",
       "      <th>5168</th>\n",
       "      <td>Email 5169</td>\n",
       "      <td>35</td>\n",
       "      <td>27</td>\n",
       "      <td>11</td>\n",
       "      <td>2</td>\n",
       "      <td>6</td>\n",
       "      <td>5</td>\n",
       "      <td>151</td>\n",
       "      <td>4</td>\n",
       "      <td>3</td>\n",
       "      <td>...</td>\n",
       "      <td>0</td>\n",
       "      <td>0</td>\n",
       "      <td>0</td>\n",
       "      <td>0</td>\n",
       "      <td>0</td>\n",
       "      <td>0</td>\n",
       "      <td>0</td>\n",
       "      <td>1</td>\n",
       "      <td>0</td>\n",
       "      <td>0</td>\n",
       "    </tr>\n",
       "    <tr>\n",
       "      <th>5169</th>\n",
       "      <td>Email 5170</td>\n",
       "      <td>0</td>\n",
       "      <td>0</td>\n",
       "      <td>1</td>\n",
       "      <td>1</td>\n",
       "      <td>0</td>\n",
       "      <td>0</td>\n",
       "      <td>11</td>\n",
       "      <td>0</td>\n",
       "      <td>0</td>\n",
       "      <td>...</td>\n",
       "      <td>0</td>\n",
       "      <td>0</td>\n",
       "      <td>0</td>\n",
       "      <td>0</td>\n",
       "      <td>0</td>\n",
       "      <td>0</td>\n",
       "      <td>0</td>\n",
       "      <td>0</td>\n",
       "      <td>0</td>\n",
       "      <td>1</td>\n",
       "    </tr>\n",
       "    <tr>\n",
       "      <th>5170</th>\n",
       "      <td>Email 5171</td>\n",
       "      <td>2</td>\n",
       "      <td>7</td>\n",
       "      <td>1</td>\n",
       "      <td>0</td>\n",
       "      <td>2</td>\n",
       "      <td>1</td>\n",
       "      <td>28</td>\n",
       "      <td>2</td>\n",
       "      <td>0</td>\n",
       "      <td>...</td>\n",
       "      <td>0</td>\n",
       "      <td>0</td>\n",
       "      <td>0</td>\n",
       "      <td>0</td>\n",
       "      <td>0</td>\n",
       "      <td>0</td>\n",
       "      <td>0</td>\n",
       "      <td>1</td>\n",
       "      <td>0</td>\n",
       "      <td>1</td>\n",
       "    </tr>\n",
       "    <tr>\n",
       "      <th>5171</th>\n",
       "      <td>Email 5172</td>\n",
       "      <td>22</td>\n",
       "      <td>24</td>\n",
       "      <td>5</td>\n",
       "      <td>1</td>\n",
       "      <td>6</td>\n",
       "      <td>5</td>\n",
       "      <td>148</td>\n",
       "      <td>8</td>\n",
       "      <td>2</td>\n",
       "      <td>...</td>\n",
       "      <td>0</td>\n",
       "      <td>0</td>\n",
       "      <td>0</td>\n",
       "      <td>0</td>\n",
       "      <td>0</td>\n",
       "      <td>0</td>\n",
       "      <td>0</td>\n",
       "      <td>0</td>\n",
       "      <td>0</td>\n",
       "      <td>0</td>\n",
       "    </tr>\n",
       "  </tbody>\n",
       "</table>\n",
       "<p>5 rows × 3002 columns</p>\n",
       "</div>"
      ],
      "text/plain": [
       "       Email No.  the  to  ect  and  for  of    a  you  hou  ...  connevey  \\\n",
       "5167  Email 5168    2   2    2    3    0   0   32    0    0  ...         0   \n",
       "5168  Email 5169   35  27   11    2    6   5  151    4    3  ...         0   \n",
       "5169  Email 5170    0   0    1    1    0   0   11    0    0  ...         0   \n",
       "5170  Email 5171    2   7    1    0    2   1   28    2    0  ...         0   \n",
       "5171  Email 5172   22  24    5    1    6   5  148    8    2  ...         0   \n",
       "\n",
       "      jay  valued  lay  infrastructure  military  allowing  ff  dry  \\\n",
       "5167    0       0    0               0         0         0   0    0   \n",
       "5168    0       0    0               0         0         0   1    0   \n",
       "5169    0       0    0               0         0         0   0    0   \n",
       "5170    0       0    0               0         0         0   1    0   \n",
       "5171    0       0    0               0         0         0   0    0   \n",
       "\n",
       "      Prediction  \n",
       "5167           0  \n",
       "5168           0  \n",
       "5169           1  \n",
       "5170           1  \n",
       "5171           0  \n",
       "\n",
       "[5 rows x 3002 columns]"
      ]
     },
     "execution_count": 7,
     "metadata": {},
     "output_type": "execute_result"
    }
   ],
   "source": [
    "data.tail()"
   ]
  },
  {
   "cell_type": "code",
   "execution_count": 8,
   "id": "464cb530",
   "metadata": {
    "execution": {
     "iopub.execute_input": "2021-11-09T04:02:18.377516Z",
     "iopub.status.busy": "2021-11-09T04:02:18.376747Z",
     "iopub.status.idle": "2021-11-09T04:02:18.706694Z",
     "shell.execute_reply": "2021-11-09T04:02:18.706107Z",
     "shell.execute_reply.started": "2021-11-09T03:55:27.170291Z"
    },
    "papermill": {
     "duration": 0.355122,
     "end_time": "2021-11-09T04:02:18.706876",
     "exception": false,
     "start_time": "2021-11-09T04:02:18.351754",
     "status": "completed"
    },
    "tags": []
   },
   "outputs": [
    {
     "name": "stdout",
     "output_type": "stream",
     "text": [
      "<class 'pandas.core.frame.DataFrame'>\n",
      "RangeIndex: 5172 entries, 0 to 5171\n",
      "Columns: 3002 entries, Email No. to Prediction\n",
      "dtypes: int64(3001), object(1)\n",
      "memory usage: 118.5+ MB\n"
     ]
    }
   ],
   "source": [
    "data.info()"
   ]
  },
  {
   "cell_type": "code",
   "execution_count": 9,
   "id": "3d95e155",
   "metadata": {
    "execution": {
     "iopub.execute_input": "2021-11-09T04:02:18.751024Z",
     "iopub.status.busy": "2021-11-09T04:02:18.749977Z",
     "iopub.status.idle": "2021-11-09T04:02:18.796297Z",
     "shell.execute_reply": "2021-11-09T04:02:18.795570Z",
     "shell.execute_reply.started": "2021-11-09T03:55:27.427208Z"
    },
    "papermill": {
     "duration": 0.069906,
     "end_time": "2021-11-09T04:02:18.796468",
     "exception": false,
     "start_time": "2021-11-09T04:02:18.726562",
     "status": "completed"
    },
    "tags": []
   },
   "outputs": [
    {
     "data": {
      "text/plain": [
       "Email No.     0\n",
       "the           0\n",
       "to            0\n",
       "ect           0\n",
       "and           0\n",
       "             ..\n",
       "military      0\n",
       "allowing      0\n",
       "ff            0\n",
       "dry           0\n",
       "Prediction    0\n",
       "Length: 3002, dtype: int64"
      ]
     },
     "execution_count": 9,
     "metadata": {},
     "output_type": "execute_result"
    }
   ],
   "source": [
    "data.isnull().sum()"
   ]
  },
  {
   "cell_type": "code",
   "execution_count": 10,
   "id": "666cfc44",
   "metadata": {
    "execution": {
     "iopub.execute_input": "2021-11-09T04:02:18.841732Z",
     "iopub.status.busy": "2021-11-09T04:02:18.840706Z",
     "iopub.status.idle": "2021-11-09T04:02:18.903840Z",
     "shell.execute_reply": "2021-11-09T04:02:18.903062Z",
     "shell.execute_reply.started": "2021-11-09T03:55:27.47045Z"
    },
    "papermill": {
     "duration": 0.087262,
     "end_time": "2021-11-09T04:02:18.904077",
     "exception": false,
     "start_time": "2021-11-09T04:02:18.816815",
     "status": "completed"
    },
    "tags": []
   },
   "outputs": [],
   "source": [
    "from sklearn.model_selection import train_test_split"
   ]
  },
  {
   "cell_type": "code",
   "execution_count": 11,
   "id": "8de14f8e",
   "metadata": {
    "execution": {
     "iopub.execute_input": "2021-11-09T04:02:18.954446Z",
     "iopub.status.busy": "2021-11-09T04:02:18.953464Z",
     "iopub.status.idle": "2021-11-09T04:02:18.956724Z",
     "shell.execute_reply": "2021-11-09T04:02:18.957424Z",
     "shell.execute_reply.started": "2021-11-09T03:55:27.493479Z"
    },
    "papermill": {
     "duration": 0.031979,
     "end_time": "2021-11-09T04:02:18.957652",
     "exception": false,
     "start_time": "2021-11-09T04:02:18.925673",
     "status": "completed"
    },
    "tags": []
   },
   "outputs": [],
   "source": [
    "lables = data.pop('Prediction')\n",
    "\n",
    "features = data"
   ]
  },
  {
   "cell_type": "code",
   "execution_count": 12,
   "id": "70754c93",
   "metadata": {
    "execution": {
     "iopub.execute_input": "2021-11-09T04:02:19.004731Z",
     "iopub.status.busy": "2021-11-09T04:02:19.003719Z",
     "iopub.status.idle": "2021-11-09T04:02:19.023685Z",
     "shell.execute_reply": "2021-11-09T04:02:19.024373Z",
     "shell.execute_reply.started": "2021-11-09T03:55:27.500528Z"
    },
    "papermill": {
     "duration": 0.044333,
     "end_time": "2021-11-09T04:02:19.024578",
     "exception": false,
     "start_time": "2021-11-09T04:02:18.980245",
     "status": "completed"
    },
    "tags": []
   },
   "outputs": [
    {
     "data": {
      "text/html": [
       "<div>\n",
       "<style scoped>\n",
       "    .dataframe tbody tr th:only-of-type {\n",
       "        vertical-align: middle;\n",
       "    }\n",
       "\n",
       "    .dataframe tbody tr th {\n",
       "        vertical-align: top;\n",
       "    }\n",
       "\n",
       "    .dataframe thead th {\n",
       "        text-align: right;\n",
       "    }\n",
       "</style>\n",
       "<table border=\"1\" class=\"dataframe\">\n",
       "  <thead>\n",
       "    <tr style=\"text-align: right;\">\n",
       "      <th></th>\n",
       "      <th>Email No.</th>\n",
       "      <th>the</th>\n",
       "      <th>to</th>\n",
       "      <th>ect</th>\n",
       "      <th>and</th>\n",
       "      <th>for</th>\n",
       "      <th>of</th>\n",
       "      <th>a</th>\n",
       "      <th>you</th>\n",
       "      <th>hou</th>\n",
       "      <th>...</th>\n",
       "      <th>enhancements</th>\n",
       "      <th>connevey</th>\n",
       "      <th>jay</th>\n",
       "      <th>valued</th>\n",
       "      <th>lay</th>\n",
       "      <th>infrastructure</th>\n",
       "      <th>military</th>\n",
       "      <th>allowing</th>\n",
       "      <th>ff</th>\n",
       "      <th>dry</th>\n",
       "    </tr>\n",
       "  </thead>\n",
       "  <tbody>\n",
       "    <tr>\n",
       "      <th>0</th>\n",
       "      <td>Email 1</td>\n",
       "      <td>0</td>\n",
       "      <td>0</td>\n",
       "      <td>1</td>\n",
       "      <td>0</td>\n",
       "      <td>0</td>\n",
       "      <td>0</td>\n",
       "      <td>2</td>\n",
       "      <td>0</td>\n",
       "      <td>0</td>\n",
       "      <td>...</td>\n",
       "      <td>0</td>\n",
       "      <td>0</td>\n",
       "      <td>0</td>\n",
       "      <td>0</td>\n",
       "      <td>0</td>\n",
       "      <td>0</td>\n",
       "      <td>0</td>\n",
       "      <td>0</td>\n",
       "      <td>0</td>\n",
       "      <td>0</td>\n",
       "    </tr>\n",
       "    <tr>\n",
       "      <th>1</th>\n",
       "      <td>Email 2</td>\n",
       "      <td>8</td>\n",
       "      <td>13</td>\n",
       "      <td>24</td>\n",
       "      <td>6</td>\n",
       "      <td>6</td>\n",
       "      <td>2</td>\n",
       "      <td>102</td>\n",
       "      <td>1</td>\n",
       "      <td>27</td>\n",
       "      <td>...</td>\n",
       "      <td>0</td>\n",
       "      <td>0</td>\n",
       "      <td>0</td>\n",
       "      <td>0</td>\n",
       "      <td>0</td>\n",
       "      <td>0</td>\n",
       "      <td>0</td>\n",
       "      <td>0</td>\n",
       "      <td>1</td>\n",
       "      <td>0</td>\n",
       "    </tr>\n",
       "    <tr>\n",
       "      <th>2</th>\n",
       "      <td>Email 3</td>\n",
       "      <td>0</td>\n",
       "      <td>0</td>\n",
       "      <td>1</td>\n",
       "      <td>0</td>\n",
       "      <td>0</td>\n",
       "      <td>0</td>\n",
       "      <td>8</td>\n",
       "      <td>0</td>\n",
       "      <td>0</td>\n",
       "      <td>...</td>\n",
       "      <td>0</td>\n",
       "      <td>0</td>\n",
       "      <td>0</td>\n",
       "      <td>0</td>\n",
       "      <td>0</td>\n",
       "      <td>0</td>\n",
       "      <td>0</td>\n",
       "      <td>0</td>\n",
       "      <td>0</td>\n",
       "      <td>0</td>\n",
       "    </tr>\n",
       "    <tr>\n",
       "      <th>3</th>\n",
       "      <td>Email 4</td>\n",
       "      <td>0</td>\n",
       "      <td>5</td>\n",
       "      <td>22</td>\n",
       "      <td>0</td>\n",
       "      <td>5</td>\n",
       "      <td>1</td>\n",
       "      <td>51</td>\n",
       "      <td>2</td>\n",
       "      <td>10</td>\n",
       "      <td>...</td>\n",
       "      <td>0</td>\n",
       "      <td>0</td>\n",
       "      <td>0</td>\n",
       "      <td>0</td>\n",
       "      <td>0</td>\n",
       "      <td>0</td>\n",
       "      <td>0</td>\n",
       "      <td>0</td>\n",
       "      <td>0</td>\n",
       "      <td>0</td>\n",
       "    </tr>\n",
       "    <tr>\n",
       "      <th>4</th>\n",
       "      <td>Email 5</td>\n",
       "      <td>7</td>\n",
       "      <td>6</td>\n",
       "      <td>17</td>\n",
       "      <td>1</td>\n",
       "      <td>5</td>\n",
       "      <td>2</td>\n",
       "      <td>57</td>\n",
       "      <td>0</td>\n",
       "      <td>9</td>\n",
       "      <td>...</td>\n",
       "      <td>0</td>\n",
       "      <td>0</td>\n",
       "      <td>0</td>\n",
       "      <td>0</td>\n",
       "      <td>0</td>\n",
       "      <td>0</td>\n",
       "      <td>0</td>\n",
       "      <td>0</td>\n",
       "      <td>1</td>\n",
       "      <td>0</td>\n",
       "    </tr>\n",
       "  </tbody>\n",
       "</table>\n",
       "<p>5 rows × 3001 columns</p>\n",
       "</div>"
      ],
      "text/plain": [
       "  Email No.  the  to  ect  and  for  of    a  you  hou  ...  enhancements  \\\n",
       "0   Email 1    0   0    1    0    0   0    2    0    0  ...             0   \n",
       "1   Email 2    8  13   24    6    6   2  102    1   27  ...             0   \n",
       "2   Email 3    0   0    1    0    0   0    8    0    0  ...             0   \n",
       "3   Email 4    0   5   22    0    5   1   51    2   10  ...             0   \n",
       "4   Email 5    7   6   17    1    5   2   57    0    9  ...             0   \n",
       "\n",
       "   connevey  jay  valued  lay  infrastructure  military  allowing  ff  dry  \n",
       "0         0    0       0    0               0         0         0   0    0  \n",
       "1         0    0       0    0               0         0         0   1    0  \n",
       "2         0    0       0    0               0         0         0   0    0  \n",
       "3         0    0       0    0               0         0         0   0    0  \n",
       "4         0    0       0    0               0         0         0   1    0  \n",
       "\n",
       "[5 rows x 3001 columns]"
      ]
     },
     "execution_count": 12,
     "metadata": {},
     "output_type": "execute_result"
    }
   ],
   "source": [
    "features.head()"
   ]
  },
  {
   "cell_type": "code",
   "execution_count": 13,
   "id": "bb083ed0",
   "metadata": {
    "execution": {
     "iopub.execute_input": "2021-11-09T04:02:19.074136Z",
     "iopub.status.busy": "2021-11-09T04:02:19.073122Z",
     "iopub.status.idle": "2021-11-09T04:02:19.077335Z",
     "shell.execute_reply": "2021-11-09T04:02:19.077844Z",
     "shell.execute_reply.started": "2021-11-09T03:55:27.531417Z"
    },
    "papermill": {
     "duration": 0.032684,
     "end_time": "2021-11-09T04:02:19.078071",
     "exception": false,
     "start_time": "2021-11-09T04:02:19.045387",
     "status": "completed"
    },
    "tags": []
   },
   "outputs": [
    {
     "data": {
      "text/plain": [
       "0    0\n",
       "1    0\n",
       "2    0\n",
       "3    0\n",
       "4    0\n",
       "Name: Prediction, dtype: int64"
      ]
     },
     "execution_count": 13,
     "metadata": {},
     "output_type": "execute_result"
    }
   ],
   "source": [
    "lables.head()"
   ]
  },
  {
   "cell_type": "code",
   "execution_count": 14,
   "id": "e8e7bea6",
   "metadata": {
    "execution": {
     "iopub.execute_input": "2021-11-09T04:02:19.124123Z",
     "iopub.status.busy": "2021-11-09T04:02:19.123456Z",
     "iopub.status.idle": "2021-11-09T04:02:19.127701Z",
     "shell.execute_reply": "2021-11-09T04:02:19.128217Z",
     "shell.execute_reply.started": "2021-11-09T03:55:48.605271Z"
    },
    "papermill": {
     "duration": 0.028967,
     "end_time": "2021-11-09T04:02:19.128388",
     "exception": false,
     "start_time": "2021-11-09T04:02:19.099421",
     "status": "completed"
    },
    "tags": []
   },
   "outputs": [],
   "source": [
    "email_number = features.pop('Email No.')"
   ]
  },
  {
   "cell_type": "code",
   "execution_count": 15,
   "id": "ae390ca4",
   "metadata": {
    "execution": {
     "iopub.execute_input": "2021-11-09T04:02:19.173337Z",
     "iopub.status.busy": "2021-11-09T04:02:19.172661Z",
     "iopub.status.idle": "2021-11-09T04:02:19.307839Z",
     "shell.execute_reply": "2021-11-09T04:02:19.307233Z",
     "shell.execute_reply.started": "2021-11-09T03:55:57.497627Z"
    },
    "papermill": {
     "duration": 0.159209,
     "end_time": "2021-11-09T04:02:19.308134",
     "exception": false,
     "start_time": "2021-11-09T04:02:19.148925",
     "status": "completed"
    },
    "tags": []
   },
   "outputs": [],
   "source": [
    "X_train,X_test,y_train,y_test = train_test_split(features,lables,test_size=0.3,random_state=42)"
   ]
  },
  {
   "cell_type": "code",
   "execution_count": null,
   "id": "36e5fbd3",
   "metadata": {
    "papermill": {
     "duration": 0.020583,
     "end_time": "2021-11-09T04:02:19.350411",
     "exception": false,
     "start_time": "2021-11-09T04:02:19.329828",
     "status": "completed"
    },
    "tags": []
   },
   "outputs": [],
   "source": []
  },
  {
   "cell_type": "code",
   "execution_count": 16,
   "id": "d662fb56",
   "metadata": {
    "execution": {
     "iopub.execute_input": "2021-11-09T04:02:19.398625Z",
     "iopub.status.busy": "2021-11-09T04:02:19.397968Z",
     "iopub.status.idle": "2021-11-09T04:02:19.737782Z",
     "shell.execute_reply": "2021-11-09T04:02:19.737246Z",
     "shell.execute_reply.started": "2021-11-09T03:56:02.656527Z"
    },
    "papermill": {
     "duration": 0.366751,
     "end_time": "2021-11-09T04:02:19.737945",
     "exception": false,
     "start_time": "2021-11-09T04:02:19.371194",
     "status": "completed"
    },
    "tags": []
   },
   "outputs": [
    {
     "data": {
      "text/plain": [
       "GaussianNB()"
      ]
     },
     "execution_count": 16,
     "metadata": {},
     "output_type": "execute_result"
    }
   ],
   "source": [
    "clf.fit(X_train,y_train)"
   ]
  },
  {
   "cell_type": "code",
   "execution_count": 17,
   "id": "0897b898",
   "metadata": {
    "execution": {
     "iopub.execute_input": "2021-11-09T04:02:19.785458Z",
     "iopub.status.busy": "2021-11-09T04:02:19.784771Z",
     "iopub.status.idle": "2021-11-09T04:02:19.933620Z",
     "shell.execute_reply": "2021-11-09T04:02:19.933064Z",
     "shell.execute_reply.started": "2021-11-09T03:56:24.261992Z"
    },
    "papermill": {
     "duration": 0.173656,
     "end_time": "2021-11-09T04:02:19.933768",
     "exception": false,
     "start_time": "2021-11-09T04:02:19.760112",
     "status": "completed"
    },
    "tags": []
   },
   "outputs": [],
   "source": [
    "pred = clf.predict(X_test)"
   ]
  },
  {
   "cell_type": "code",
   "execution_count": 18,
   "id": "e5130497",
   "metadata": {
    "execution": {
     "iopub.execute_input": "2021-11-09T04:02:19.981877Z",
     "iopub.status.busy": "2021-11-09T04:02:19.981128Z",
     "iopub.status.idle": "2021-11-09T04:02:19.983437Z",
     "shell.execute_reply": "2021-11-09T04:02:19.984070Z",
     "shell.execute_reply.started": "2021-11-09T03:56:51.743988Z"
    },
    "papermill": {
     "duration": 0.029711,
     "end_time": "2021-11-09T04:02:19.984277",
     "exception": false,
     "start_time": "2021-11-09T04:02:19.954566",
     "status": "completed"
    },
    "tags": []
   },
   "outputs": [],
   "source": [
    "from sklearn.metrics import accuracy_score"
   ]
  },
  {
   "cell_type": "code",
   "execution_count": 24,
   "id": "94272ca8",
   "metadata": {
    "execution": {
     "iopub.execute_input": "2021-11-09T04:02:20.035421Z",
     "iopub.status.busy": "2021-11-09T04:02:20.034702Z",
     "iopub.status.idle": "2021-11-09T04:02:20.038818Z",
     "shell.execute_reply": "2021-11-09T04:02:20.038203Z",
     "shell.execute_reply.started": "2021-11-09T03:57:18.161494Z"
    },
    "papermill": {
     "duration": 0.030857,
     "end_time": "2021-11-09T04:02:20.038998",
     "exception": false,
     "start_time": "2021-11-09T04:02:20.008141",
     "status": "completed"
    },
    "tags": []
   },
   "outputs": [
    {
     "name": "stdout",
     "output_type": "stream",
     "text": [
      "0.9490979381443299\n"
     ]
    }
   ],
   "source": [
    "print(accuracy_score(pred,y_test))"
   ]
  },
  {
   "cell_type": "code",
   "execution_count": 25,
   "id": "24381760",
   "metadata": {
    "execution": {
     "iopub.execute_input": "2021-11-09T04:02:20.100143Z",
     "iopub.status.busy": "2021-11-09T04:02:20.099434Z",
     "iopub.status.idle": "2021-11-09T04:02:20.232571Z",
     "shell.execute_reply": "2021-11-09T04:02:20.233135Z",
     "shell.execute_reply.started": "2021-11-09T03:57:46.184666Z"
    },
    "papermill": {
     "duration": 0.172032,
     "end_time": "2021-11-09T04:02:20.233312",
     "exception": false,
     "start_time": "2021-11-09T04:02:20.061280",
     "status": "completed"
    },
    "tags": []
   },
   "outputs": [
    {
     "data": {
      "text/plain": [
       "0.9490979381443299"
      ]
     },
     "execution_count": 25,
     "metadata": {},
     "output_type": "execute_result"
    }
   ],
   "source": [
    "clf.score(X_test,y_test)"
   ]
  },
  {
   "cell_type": "code",
   "execution_count": null,
   "id": "838a4cae",
   "metadata": {
    "papermill": {
     "duration": 0.021338,
     "end_time": "2021-11-09T04:02:20.276490",
     "exception": false,
     "start_time": "2021-11-09T04:02:20.255152",
     "status": "completed"
    },
    "tags": []
   },
   "outputs": [],
   "source": []
  }
 ],
 "metadata": {
  "kernelspec": {
   "display_name": "Python 3",
   "language": "python",
   "name": "python3"
  },
  "language_info": {
   "codemirror_mode": {
    "name": "ipython",
    "version": 3
   },
   "file_extension": ".py",
   "mimetype": "text/x-python",
   "name": "python",
   "nbconvert_exporter": "python",
   "pygments_lexer": "ipython3",
   "version": "3.7.0"
  },
  "papermill": {
   "default_parameters": {},
   "duration": 17.016047,
   "end_time": "2021-11-09T04:02:21.311729",
   "environment_variables": {},
   "exception": null,
   "input_path": "__notebook__.ipynb",
   "output_path": "__notebook__.ipynb",
   "parameters": {},
   "start_time": "2021-11-09T04:02:04.295682",
   "version": "2.3.3"
  }
 },
 "nbformat": 4,
 "nbformat_minor": 5
}
