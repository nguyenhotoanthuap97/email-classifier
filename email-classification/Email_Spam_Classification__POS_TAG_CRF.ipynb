{
  "cells": [
    {
      "cell_type": "markdown",
      "metadata": {
        "id": "bezImCqhsokx"
      },
      "source": [
        "**Email Spam Classification Using Naive Bayes + Random Forest**\n",
        "\n"
      ]
    },
    {
      "cell_type": "code",
      "execution_count": 2,
      "metadata": {
        "id": "A3f9cJTisb79"
      },
      "outputs": [
        {
          "name": "stderr",
          "output_type": "stream",
          "text": [
            "[nltk_data] Downloading package stopwords to\n",
            "[nltk_data]     C:\\Users\\nguye\\AppData\\Roaming\\nltk_data...\n",
            "[nltk_data]   Package stopwords is already up-to-date!\n"
          ]
        }
      ],
      "source": [
        "# for math operations\n",
        "import pandas as pd\n",
        "import numpy as np\n",
        "\n",
        "# for progress bar\n",
        "from tqdm import tqdm\n",
        "\n",
        "# for data preprocessing\n",
        "import re\n",
        "import os\n",
        "import nltk\n",
        "from nltk.corpus import stopwords\n",
        "from nltk.stem import PorterStemmer\n",
        "\n",
        "# Model building\n",
        "from sklearn.feature_extraction.text import TfidfVectorizer\n",
        "from sklearn.pipeline import Pipeline\n",
        "from sklearn.metrics import classification_report, confusion_matrix\n",
        "from sklearn.model_selection import train_test_split\n",
        "from sklearn.feature_selection import SelectKBest, chi2\n",
        "from sklearn.ensemble import RandomForestClassifier\n",
        "import pickle\n",
        "\n",
        "# for plotting\n",
        "import matplotlib.pyplot as plt\n",
        "%matplotlib inline\n",
        "\n",
        "nltk.download('stopwords')\n",
        "stemmer = PorterStemmer()\n",
        "words = stopwords.words(\"english\")\n",
        "\n",
        "%matplotlib inline\n",
        "import warnings\n",
        "\n",
        "warnings.filterwarnings('ignore')"
      ]
    },
    {
      "cell_type": "code",
      "execution_count": 42,
      "metadata": {
        "colab": {
          "base_uri": "https://localhost:8080/",
          "height": 404
        },
        "id": "xydazO85tIxG",
        "outputId": "b5d15482-17c7-452b-a4f0-b3459e86570c"
      },
      "outputs": [],
      "source": [
        "def cleanText(str):\n",
        "  return ' '.join(re.sub('[^A-Za-z ]+', '', str.lower()).split()).replace('subject', '').strip()"
      ]
    },
    {
      "cell_type": "code",
      "execution_count": 4,
      "metadata": {
        "id": "vtLR-VK0tNeK"
      },
      "outputs": [],
      "source": [
        "from sklearn.model_selection import train_test_split\n",
        "X = df.iloc[:, 1:-1].values\n",
        "y = df.iloc[:, -1].values\n",
        "X_train, X_test, y_train, y_test = train_test_split(X, y, test_size=0.20, random_state=100)"
      ]
    },
    {
      "cell_type": "code",
      "execution_count": 5,
      "metadata": {
        "colab": {
          "base_uri": "https://localhost:8080/"
        },
        "id": "SktDLoJAtQwK",
        "outputId": "1f9d8a61-d5a5-4431-ce97-f35301da48a1"
      },
      "outputs": [
        {
          "data": {
            "text/plain": [
              "RandomForestClassifier()"
            ]
          },
          "execution_count": 5,
          "metadata": {},
          "output_type": "execute_result"
        }
      ],
      "source": [
        "from sklearn.ensemble import RandomForestClassifier\n",
        "from sklearn.naive_bayes import MultinomialNB\n",
        "mnb_model=MultinomialNB()\n",
        "mnb_model.fit(X_train,y_train)\n",
        "\n",
        "rfc_model=RandomForestClassifier()\n",
        "rfc_model.fit(X_train,y_train)"
      ]
    },
    {
      "cell_type": "code",
      "execution_count": 6,
      "metadata": {
        "id": "wKEWNysIbNPJ"
      },
      "outputs": [],
      "source": [
        "from sklearn.metrics import plot_confusion_matrix,classification_report,plot_precision_recall_curve,plot_roc_curve\n",
        "def report(model):\n",
        "    preds = model.predict(X_test)\n",
        "    print(classification_report(preds,y_test))\n",
        "    plot_confusion_matrix(model,X_test,y_test)\n",
        "    plot_precision_recall_curve(model,X_test,y_test)\n",
        "    plot_roc_curve(model,X_test,y_test)"
      ]
    },
    {
      "cell_type": "code",
      "execution_count": 7,
      "metadata": {
        "id": "bGHZ__MnSA1J"
      },
      "outputs": [],
      "source": [
        "# Python code to find frequency of each word\n",
        "def freqWord(word, str):\n",
        "    return str.lower().split().count(word.lower())   "
      ]
    },
    {
      "cell_type": "code",
      "execution_count": 8,
      "metadata": {
        "id": "AKKvaPMlRqc7"
      },
      "outputs": [],
      "source": [
        "def GenFeature(str):\n",
        "  a = list(df.columns)[1:3001]\n",
        "  thisTest=[]\n",
        "  for i in range(0, len(a)):\n",
        "      thisTest.append(freqWord(a[i], str))\n",
        "  return np.array(thisTest).reshape(1,3000)"
      ]
    },
    {
      "cell_type": "code",
      "execution_count": 9,
      "metadata": {
        "colab": {
          "base_uri": "https://localhost:8080/",
          "height": 977
        },
        "id": "jF7Wt42Sb4Hb",
        "outputId": "4ce9c976-f850-405a-eb9b-4d3312c451f5"
      },
      "outputs": [
        {
          "name": "stdout",
          "output_type": "stream",
          "text": [
            "NAIVE BAYES MODEL\n",
            "              precision    recall  f1-score   support\n",
            "\n",
            "           0       0.93      0.98      0.96       712\n",
            "           1       0.95      0.84      0.89       323\n",
            "\n",
            "    accuracy                           0.94      1035\n",
            "   macro avg       0.94      0.91      0.92      1035\n",
            "weighted avg       0.94      0.94      0.94      1035\n",
            "\n"
          ]
        },
        {
          "data": {
            "image/png": "[encoded data removed]",
            "text/plain": [
              "<Figure size 432x288 with 2 Axes>"
            ]
          },
          "metadata": {
            "needs_background": "light"
          },
          "output_type": "display_data"
        },
        {
          "data": {
            "image/png": "[encoded data removed]",
            "text/plain": [
              "<Figure size 432x288 with 1 Axes>"
            ]
          },
          "metadata": {
            "needs_background": "light"
          },
          "output_type": "display_data"
        },
        {
          "data": {
            "image/png": "[encoded data removed]",
            "text/plain": [
              "<Figure size 432x288 with 1 Axes>"
            ]
          },
          "metadata": {
            "needs_background": "light"
          },
          "output_type": "display_data"
        }
      ],
      "source": [
        "print(\"NAIVE BAYES MODEL\")\n",
        "report(mnb_model)"
      ]
    },
    {
      "cell_type": "code",
      "execution_count": 10,
      "metadata": {
        "colab": {
          "base_uri": "https://localhost:8080/",
          "height": 977
        },
        "id": "k1B7lRitb5oT",
        "outputId": "0a8c1948-067b-47c2-c505-b3f6b184d3ee"
      },
      "outputs": [
        {
          "name": "stdout",
          "output_type": "stream",
          "text": [
            "RANDOM FOREST MODEL\n",
            "              precision    recall  f1-score   support\n",
            "\n",
            "           0       0.97      0.98      0.97       741\n",
            "           1       0.95      0.92      0.93       294\n",
            "\n",
            "    accuracy                           0.96      1035\n",
            "   macro avg       0.96      0.95      0.95      1035\n",
            "weighted avg       0.96      0.96      0.96      1035\n",
            "\n"
          ]
        },
        {
          "data": {
            "image/png": "[encoded data removed]",
            "text/plain": [
              "<Figure size 432x288 with 2 Axes>"
            ]
          },
          "metadata": {
            "needs_background": "light"
          },
          "output_type": "display_data"
        },
        {
          "data": {
            "image/png": "[encoded data removed]",
            "text/plain": [
              "<Figure size 432x288 with 1 Axes>"
            ]
          },
          "metadata": {
            "needs_background": "light"
          },
          "output_type": "display_data"
        },
        {
          "data": {
            "image/png": "[encoded data removed]",
            "text/plain": [
              "<Figure size 432x288 with 1 Axes>"
            ]
          },
          "metadata": {
            "needs_background": "light"
          },
          "output_type": "display_data"
        }
      ],
      "source": [
        "print(\"RANDOM FOREST MODEL\")\n",
        "report(rfc_model)"
      ]
    },
    {
      "cell_type": "markdown",
      "metadata": {
        "id": "4alYT6uAtnWQ"
      },
      "source": [
        "POS TAGGER USING CRF\n",
        "\n"
      ]
    },
    {
      "cell_type": "code",
      "execution_count": 11,
      "metadata": {
        "colab": {
          "base_uri": "https://localhost:8080/"
        },
        "id": "C1L02lNVttWh",
        "outputId": "2f4a243b-514b-4dc1-ee9e-73e3f01cab0d"
      },
      "outputs": [
        {
          "name": "stderr",
          "output_type": "stream",
          "text": [
            "[nltk_data] Downloading package treebank to\n",
            "[nltk_data]     C:\\Users\\nguye\\AppData\\Roaming\\nltk_data...\n",
            "[nltk_data]   Package treebank is already up-to-date!\n"
          ]
        }
      ],
      "source": [
        "import nltk\n",
        "nltk.download('treebank')\n",
        "tagged_sentences = nltk.corpus.treebank.tagged_sents()"
      ]
    },
    {
      "cell_type": "code",
      "execution_count": 12,
      "metadata": {
        "id": "IJv6clYQtycV"
      },
      "outputs": [],
      "source": [
        "def features(sentence, index):\n",
        "    \"\"\" sentence: [w1, w2, ...], index: the index of the word \"\"\"\n",
        "    return {\n",
        "        'word': sentence[index],\n",
        "        'is_first': index == 0,\n",
        "        'is_last': index == len(sentence) - 1,\n",
        "        'is_capitalized': sentence[index][0].upper() == sentence[index][0],\n",
        "        'is_all_caps': sentence[index].upper() == sentence[index],\n",
        "        'is_all_lower': sentence[index].lower() == sentence[index],\n",
        "        'prefix-1': sentence[index][0],\n",
        "        'prefix-2': sentence[index][:2],\n",
        "        'prefix-3': sentence[index][:3],\n",
        "        'suffix-1': sentence[index][-1],\n",
        "        'suffix-2': sentence[index][-2:],\n",
        "        'suffix-3': sentence[index][-3:],\n",
        "        'prev_word': '' if index == 0 else sentence[index - 1],\n",
        "        'next_word': '' if index == len(sentence) - 1 else sentence[index + 1],\n",
        "        'has_hyphen': '-' in sentence[index],\n",
        "        'is_numeric': sentence[index].isdigit(),\n",
        "        'capitals_inside': sentence[index][1:].lower() != sentence[index][1:]\n",
        "    }"
      ]
    },
    {
      "cell_type": "code",
      "execution_count": 13,
      "metadata": {
        "id": "NChRPOE7tzfH"
      },
      "outputs": [],
      "source": [
        "from nltk.tag.util import untag\n",
        "\n",
        "# Split the dataset for training and testing\n",
        "cutoff = int(.75 * len(tagged_sentences))\n",
        "training_sentences = tagged_sentences[:cutoff]\n",
        "test_sentences = tagged_sentences[cutoff:]\n",
        "\n",
        "def transform_to_dataset(tagged_sentences):\n",
        "    X, y = [], []\n",
        "\n",
        "    for tagged in tagged_sentences:\n",
        "        X.append([features(untag(tagged), index) for index in range(len(tagged))])\n",
        "        y.append([tag for _, tag in tagged])\n",
        "\n",
        "    return X, y\n",
        "\n",
        "X_train, y_train = transform_to_dataset(training_sentences)\n",
        "X_test, y_test = transform_to_dataset(test_sentences)"
      ]
    },
    {
      "cell_type": "code",
      "execution_count": 14,
      "metadata": {
        "colab": {
          "base_uri": "https://localhost:8080/"
        },
        "id": "doDQpRont2J1",
        "outputId": "9cad6db1-df3d-4135-ace8-574ed9a8f7ed"
      },
      "outputs": [],
      "source": [
        "#pip install sklearn-crfsuite\n"
      ]
    },
    {
      "cell_type": "code",
      "execution_count": 15,
      "metadata": {
        "colab": {
          "base_uri": "https://localhost:8080/"
        },
        "id": "-f-yom4tvbnK",
        "outputId": "12bb4783-4282-46fc-a58d-dcc0f1edcc9f"
      },
      "outputs": [],
      "source": [
        "#pip install -U 'scikit-learn<0.24'"
      ]
    },
    {
      "cell_type": "code",
      "execution_count": 16,
      "metadata": {
        "colab": {
          "base_uri": "https://localhost:8080/"
        },
        "id": "RPXO3H_Qt7Gw",
        "outputId": "3a3774eb-275b-460b-b9ca-4925a3c56fa8"
      },
      "outputs": [],
      "source": [
        "from sklearn_crfsuite import CRF\n",
        "\n",
        "modelCRF = CRF(algorithm='lbfgs', c1=0.1,c2=0.1,max_iterations=100,all_possible_transitions=True)\n",
        "save_model = modelCRF.fit(X_train, y_train)\n",
        "\n",
        "with open('CRF.pickle', 'wb') as f:\n",
        "  pickle.dump(save_model, f)"
      ]
    },
    {
      "cell_type": "markdown",
      "metadata": {},
      "source": [
        "# Load model if exist"
      ]
    },
    {
      "cell_type": "code",
      "execution_count": 17,
      "metadata": {},
      "outputs": [],
      "source": [
        "modelCRF = pickle.load(open('CRF.pickle', 'rb'))"
      ]
    },
    {
      "cell_type": "code",
      "execution_count": 18,
      "metadata": {
        "colab": {
          "base_uri": "https://localhost:8080/",
          "height": 206
        },
        "id": "SCf9mDxPt9vy",
        "outputId": "7f432e1f-591f-463d-ed07-fbb0408d06f6"
      },
      "outputs": [
        {
          "data": {
            "text/html": [
              "<div>\n",
              "<style scoped>\n",
              "    .dataframe tbody tr th:only-of-type {\n",
              "        vertical-align: middle;\n",
              "    }\n",
              "\n",
              "    .dataframe tbody tr th {\n",
              "        vertical-align: top;\n",
              "    }\n",
              "\n",
              "    .dataframe thead th {\n",
              "        text-align: right;\n",
              "    }\n",
              "</style>\n",
              "<table border=\"1\" class=\"dataframe\">\n",
              "  <thead>\n",
              "    <tr style=\"text-align: right;\">\n",
              "      <th></th>\n",
              "      <th>ArticleId</th>\n",
              "      <th>Text</th>\n",
              "      <th>Category</th>\n",
              "    </tr>\n",
              "  </thead>\n",
              "  <tbody>\n",
              "    <tr>\n",
              "      <th>0</th>\n",
              "      <td>1833</td>\n",
              "      <td>worldcom ex-boss launches defence lawyers defe...</td>\n",
              "      <td>business</td>\n",
              "    </tr>\n",
              "    <tr>\n",
              "      <th>1</th>\n",
              "      <td>154</td>\n",
              "      <td>german business confidence slides german busin...</td>\n",
              "      <td>business</td>\n",
              "    </tr>\n",
              "    <tr>\n",
              "      <th>2</th>\n",
              "      <td>1101</td>\n",
              "      <td>bbc poll indicates economic gloom citizens in ...</td>\n",
              "      <td>business</td>\n",
              "    </tr>\n",
              "    <tr>\n",
              "      <th>3</th>\n",
              "      <td>1976</td>\n",
              "      <td>lifestyle  governs mobile choice  faster  bett...</td>\n",
              "      <td>tech</td>\n",
              "    </tr>\n",
              "    <tr>\n",
              "      <th>4</th>\n",
              "      <td>917</td>\n",
              "      <td>enron bosses in $168m payout eighteen former e...</td>\n",
              "      <td>business</td>\n",
              "    </tr>\n",
              "  </tbody>\n",
              "</table>\n",
              "</div>"
            ],
            "text/plain": [
              "   ArticleId                                               Text  Category\n",
              "0       1833  worldcom ex-boss launches defence lawyers defe...  business\n",
              "1        154  german business confidence slides german busin...  business\n",
              "2       1101  bbc poll indicates economic gloom citizens in ...  business\n",
              "3       1976  lifestyle  governs mobile choice  faster  bett...      tech\n",
              "4        917  enron bosses in $168m payout eighteen former e...  business"
            ]
          },
          "execution_count": 18,
          "metadata": {},
          "output_type": "execute_result"
        }
      ],
      "source": [
        "import pandas as pd\n",
        "train = pd.read_csv('../datasets/BBC-News-Train.csv')\n",
        "train.head()"
      ]
    },
    {
      "cell_type": "code",
      "execution_count": 19,
      "metadata": {
        "colab": {
          "base_uri": "https://localhost:8080/"
        },
        "id": "lrq2uHiut-mf",
        "outputId": "80c6e951-d16f-4907-b4b2-feeb6b8142bb"
      },
      "outputs": [
        {
          "name": "stderr",
          "output_type": "stream",
          "text": [
            "[nltk_data] Downloading package reuters to\n",
            "[nltk_data]     C:\\Users\\nguye\\AppData\\Roaming\\nltk_data...\n",
            "[nltk_data]   Package reuters is already up-to-date!\n",
            "[nltk_data] Downloading package brown to\n",
            "[nltk_data]     C:\\Users\\nguye\\AppData\\Roaming\\nltk_data...\n",
            "[nltk_data]   Package brown is already up-to-date!\n",
            "[nltk_data] Downloading package punkt to\n",
            "[nltk_data]     C:\\Users\\nguye\\AppData\\Roaming\\nltk_data...\n",
            "[nltk_data]   Package punkt is already up-to-date!\n",
            "[nltk_data] Downloading package averaged_perceptron_tagger to\n",
            "[nltk_data]     C:\\Users\\nguye\\AppData\\Roaming\\nltk_data...\n",
            "[nltk_data]   Package averaged_perceptron_tagger is already up-to-\n",
            "[nltk_data]       date!\n",
            "[nltk_data] Downloading package universal_tagset to\n",
            "[nltk_data]     C:\\Users\\nguye\\AppData\\Roaming\\nltk_data...\n",
            "[nltk_data]   Package universal_tagset is already up-to-date!\n"
          ]
        }
      ],
      "source": [
        "import nltk\n",
        "from nltk.corpus import reuters,brown\n",
        "nltk.download('reuters')\n",
        "nltk.download('brown')\n",
        "nltk.download('punkt')\n",
        "nltk.download('averaged_perceptron_tagger')\n",
        "nltk.download('universal_tagset')\n",
        "from nltk import word_tokenize\n",
        "from nltk.tag import untag\n",
        "from nltk import UnigramTagger"
      ]
    },
    {
      "cell_type": "code",
      "execution_count": 20,
      "metadata": {
        "id": "iTbV_R6YuAgZ"
      },
      "outputs": [],
      "source": [
        "from collections import defaultdict\n",
        "\n",
        "def get_POS():\n",
        "  DF = pd.DataFrame(columns=['Text', 'Category'])\n",
        "  for i in range(len(train)):\n",
        "    sentence = word_tokenize(train['Text'][i])\n",
        "    category = train['Category'][i]\n",
        "    sentence_features = [features(sentence, index) for index in range(len(sentence))]\n",
        "    res=[]\n",
        "    pos_tag = modelCRF.predict([sentence_features])\n",
        "    for k in range(len(sentence)):\n",
        "      tag = pos_tag[0][k]\n",
        "      if tag == 'NN':\n",
        "        res.append(sentence[k])\n",
        "    str = ' '.join(set(res))\n",
        "    DF.loc[i] =[str, category]\n",
        "  return DF"
      ]
    },
    {
      "cell_type": "code",
      "execution_count": 21,
      "metadata": {
        "id": "-L8tfzvsvt5w"
      },
      "outputs": [],
      "source": [
        "trainEmail = get_POS()\n",
        "\n",
        "trainEmail.to_pickle('EmailDataFrame.pickle')"
      ]
    },
    {
      "cell_type": "markdown",
      "metadata": {},
      "source": [
        "# Load Email dataframe if exist"
      ]
    },
    {
      "cell_type": "code",
      "execution_count": 22,
      "metadata": {},
      "outputs": [],
      "source": [
        "trainEmail = pd.read_pickle('EmailDataFrame.pickle')"
      ]
    },
    {
      "cell_type": "code",
      "execution_count": 23,
      "metadata": {
        "id": "MjCtye8AU9Sh"
      },
      "outputs": [],
      "source": [
        "def pos_tag(sentence):\n",
        "    sentence_features = [features(sentence, index) for index in range(len(sentence))]\n",
        "    return list(zip(sentence, modelCRF.predict([sentence_features])[0]))"
      ]
    },
    {
      "cell_type": "code",
      "execution_count": 24,
      "metadata": {
        "colab": {
          "base_uri": "https://localhost:8080/"
        },
        "id": "Euyk9gaVWm6r",
        "outputId": "54e96345-eb2e-47e8-c08f-26d29b53dd4c"
      },
      "outputs": [
        {
          "name": "stdout",
          "output_type": "stream",
          "text": [
            "[('a', 'DT')]\n"
          ]
        }
      ],
      "source": [
        "print(pos_tag(word_tokenize(\"a\")))"
      ]
    },
    {
      "cell_type": "markdown",
      "metadata": {
        "id": "DGHnGcpFuShF"
      },
      "source": [
        "EMAIL CLASSIFICATION"
      ]
    },
    {
      "cell_type": "code",
      "execution_count": 25,
      "metadata": {
        "colab": {
          "base_uri": "https://localhost:8080/"
        },
        "id": "9bkT-56HuVef",
        "outputId": "ab7335e8-431f-4b91-be93-5cc8a6d0af29"
      },
      "outputs": [
        {
          "name": "stderr",
          "output_type": "stream",
          "text": [
            "[nltk_data] Downloading package stopwords to\n",
            "[nltk_data]     C:\\Users\\nguye\\AppData\\Roaming\\nltk_data...\n",
            "[nltk_data]   Package stopwords is already up-to-date!\n"
          ]
        },
        {
          "data": {
            "text/plain": [
              "True"
            ]
          },
          "execution_count": 25,
          "metadata": {},
          "output_type": "execute_result"
        }
      ],
      "source": []
    },
    {
      "cell_type": "code",
      "execution_count": 26,
      "metadata": {
        "colab": {
          "base_uri": "https://localhost:8080/"
        },
        "id": "R6PmpE8Sua0U",
        "outputId": "6244b9d8-214d-4d6a-d468-8372ee3584a4"
      },
      "outputs": [
        {
          "data": {
            "text/plain": [
              "array(['business', 'tech', 'politics', 'sport', 'entertainment'],\n",
              "      dtype=object)"
            ]
          },
          "execution_count": 26,
          "metadata": {},
          "output_type": "execute_result"
        }
      ],
      "source": [
        "trainCate = trainEmail[['Text','Category']]\n",
        "trainCate.Category.unique()"
      ]
    },
    {
      "cell_type": "code",
      "execution_count": 27,
      "metadata": {
        "id": "Ho-B7BfMugqJ"
      },
      "outputs": [],
      "source": [
        "stemmer = PorterStemmer()\n",
        "words = stopwords.words(\"english\")\n",
        "\n",
        "trainCate['Text'] = trainCate['Text'].apply(\n",
        "    lambda x: \" \".join([stemmer.stem(i) for i in re.sub(\"[^a-zA-Z]\", \" \", x).split() if i not in words]).lower())"
      ]
    },
    {
      "cell_type": "code",
      "execution_count": 28,
      "metadata": {
        "colab": {
          "base_uri": "https://localhost:8080/"
        },
        "id": "a7S0I8d5uhL0",
        "outputId": "94004a84-48b2-4945-d436-bd53991ffb28"
      },
      "outputs": [
        {
          "data": {
            "text/plain": [
              "(1490, 7678)"
            ]
          },
          "execution_count": 28,
          "metadata": {},
          "output_type": "execute_result"
        }
      ],
      "source": [
        "vectorizer = TfidfVectorizer(min_df= 3, stop_words=\"english\", sublinear_tf=True, norm='l2', ngram_range=(1, 2))\n",
        "final_features = vectorizer.fit_transform(trainCate['Text']).toarray()\n",
        "final_features.shape"
      ]
    },
    {
      "cell_type": "code",
      "execution_count": 29,
      "metadata": {
        "id": "yxBMfRnzukQt"
      },
      "outputs": [],
      "source": [
        "#first we split our dataset into testing and training set:\n",
        "# this block is to split the dataset into training and testing set \n",
        "X = trainCate['Text']\n",
        "Y = trainCate['Category']\n",
        "\n",
        "X_train, X_test, y_train, y_test = train_test_split(X, Y, test_size=0.2)\n",
        "\n",
        "# instead of doing these steps one at a time, we can use a pipeline to complete them all at once\n",
        "pipeline = Pipeline([('vect', vectorizer),\n",
        "                     ('chi',  SelectKBest(chi2, k=1200)),\n",
        "                     ('clf', RandomForestClassifier())])\n",
        "\n",
        "# fitting our model and save it in a pickle for later use\n",
        "model = pipeline.fit(X_train, y_train)"
      ]
    },
    {
      "cell_type": "code",
      "execution_count": 30,
      "metadata": {
        "colab": {
          "base_uri": "https://localhost:8080/"
        },
        "id": "9ZEoYLv9usr8",
        "outputId": "993025f2-da7e-4018-a241-6cd17f5f42f9"
      },
      "outputs": [
        {
          "name": "stdout",
          "output_type": "stream",
          "text": [
            "               precision    recall  f1-score   support\n",
            "\n",
            "     business       0.90      0.97      0.93        64\n",
            "entertainment       0.95      0.95      0.95        58\n",
            "     politics       0.96      0.90      0.93        50\n",
            "        sport       0.96      0.99      0.97        73\n",
            "         tech       0.96      0.89      0.92        53\n",
            "\n",
            "     accuracy                           0.94       298\n",
            "    macro avg       0.94      0.94      0.94       298\n",
            " weighted avg       0.94      0.94      0.94       298\n",
            "\n",
            "[[62  0  0  1  1]\n",
            " [ 0 55  2  0  1]\n",
            " [ 5  0 45  0  0]\n",
            " [ 0  1  0 72  0]\n",
            " [ 2  2  0  2 47]]\n"
          ]
        }
      ],
      "source": [
        "ytest = np.array(y_test)\n",
        "  \n",
        "# confusion matrix and classification report(precision, recall, F1-score)\n",
        "print(classification_report(ytest, model.predict(X_test)))\n",
        "print(confusion_matrix(ytest, model.predict(X_test)))"
      ]
    },
    {
      "cell_type": "code",
      "execution_count": 31,
      "metadata": {
        "colab": {
          "base_uri": "https://localhost:8080/"
        },
        "id": "JtQ7uf2sJ-P_",
        "outputId": "9577a949-6c4f-48a5-cb3e-cbec2c52c9f8"
      },
      "outputs": [
        {
          "name": "stdout",
          "output_type": "stream",
          "text": [
            "['business']\n"
          ]
        }
      ],
      "source": [
        "# ynew = model.predict([str(trainCate[0]['Text'])])\n",
        "message1 = [str(trainCate['Text'][0])]\n",
        "pred = model.predict(message1)\n",
        "print(pred)"
      ]
    },
    {
      "cell_type": "code",
      "execution_count": 39,
      "metadata": {
        "id": "204V7A_DRatB"
      },
      "outputs": [],
      "source": [
        "def Main(message):\n",
        "  isSpamRF = rfc_model.predict(GenFeature(message))\n",
        "  isSpamNB = mnb_model.predict(GenFeature(message))\n",
        "  print(\"RANDOM FOREST MODEL PREDICTED SPAM MAIL\" if isSpamRF == 1 else \"RANDOM FOREST MODEL PREDICTED HAM MAIL\")\n",
        "  print(\"NAIVE BAYES MODEL PREDICTED SPAM MAIL\" if isSpamNB == 1 else \"NAIVE BAYES MODEL PREDICTED HAM MAIL\")\n",
        "  predDomain = model.predict([str(message)])\n",
        "  print(\"EMAIL TYPE: \" + predDomain[0])\n",
        "  # print(\"POS TAGGER:\")\n",
        "  # print(pos_tag(word_tokenize(message)))"
      ]
    },
    {
      "cell_type": "code",
      "execution_count": 41,
      "metadata": {
        "colab": {
          "base_uri": "https://localhost:8080/"
        },
        "id": "Djeh92CVSOlC",
        "outputId": "f9f433d7-8e7b-4842-b2b5-d001152dbd02"
      },
      "outputs": [
        {
          "name": "stdout",
          "output_type": "stream",
          "text": [
            "EMAIL TEXT\n",
            "RANDOM FOREST MODEL PREDICTED SPAM MAIL\n",
            "NAIVE BAYES MODEL PREDICTED HAM MAIL\n",
            "EMAIL TYPE: sport\n"
          ]
        }
      ],
      "source": [
        "print('EMAIL TEXT')\n",
        "x = input()\n",
        "Main(x)"
      ]
    }
  ],
  "metadata": {
    "colab": {
      "collapsed_sections": [],
      "name": "Email_Spam_Classification + POS_TAG CRF",
      "provenance": [],
      "toc_visible": true
    },
    "kernelspec": {
      "display_name": "Python 3",
      "name": "python3"
    },
    "language_info": {
      "codemirror_mode": {
        "name": "ipython",
        "version": 3
      },
      "file_extension": ".py",
      "mimetype": "text/x-python",
      "name": "python",
      "nbconvert_exporter": "python",
      "pygments_lexer": "ipython3",
      "version": "3.7.0"
    }
  },
  "nbformat": 4,
  "nbformat_minor": 0
}
